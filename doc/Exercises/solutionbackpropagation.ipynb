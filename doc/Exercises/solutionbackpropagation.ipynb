{
 "cells": [
  {
   "cell_type": "markdown",
   "metadata": {},
   "source": [
    "# Backpropagation\n"
   ]
  },
  {
   "cell_type": "markdown",
   "metadata": {},
   "source": [
    "# Overarching aims of the exercises\n",
    "\n",
    "The aim of these exercises is to train the neural network you implemented in the previous exercise.\n",
    "\n",
    "To train neural networks, we use gradient descent, since there is no analytical expression for the optimal parameters. This means you will need to compute the gradient of the cost function wrt. the network parameters. And then you will need to implement some gradient method.\n",
    "\n",
    "You will begin by computing gradients for a network with one layer, then two layers, then any number of layers. Keeping track of the shapes and doing things step by step will be very important this week.\n",
    "\n",
    "We recommend that you do the exercises  by editing and running this notebook file, as it includes some checks along the way that you have implemented the neural network correctly, and running small parts of the code at a time will be important for understanding the methods. If you have trouble running a notebook, you can run this notebook in google colab instead(https://colab.research.google.com/drive/1FfvbN0XlhV-lATRPyGRTtTBnJr3zNuHL#offline=true&sandboxMode=true), though we recommend that you set up VSCode and your python environment to run code like this locally.\n",
    "\n",
    "First, some setup code that you will need.\n"
   ]
  },
  {
   "cell_type": "code",
   "execution_count": 1,
   "metadata": {},
   "outputs": [],
   "source": [
    "import autograd.numpy as np  # We need to use this numpy wrapper to make automatic differentiation work later\n",
    "from autograd import grad, elementwise_grad\n",
    "from sklearn import datasets\n",
    "import matplotlib.pyplot as plt\n",
    "from sklearn.metrics import accuracy_score\n",
    "\n",
    "\n",
    "# Defining some activation functions\n",
    "def ReLU(z):\n",
    "    return np.where(z > 0, z, 0)\n",
    "\n",
    "\n",
    "# Derivative of the ReLU function\n",
    "def ReLU_der(z):\n",
    "    return np.where(z > 0, 1, 0)\n",
    "\n",
    "\n",
    "def sigmoid(z):\n",
    "    return 1 / (1 + np.exp(-z))\n",
    "\n",
    "\n",
    "def mse(predict, target):\n",
    "    return np.mean((predict - target) ** 2)"
   ]
  },
  {
   "cell_type": "markdown",
   "metadata": {},
   "source": [
    "# Exercise 1 - Understand the feed forward pass\n",
    "\n",
    "**a)** Complete last weeks' mandatory exercises if you haven't already.\n"
   ]
  },
  {
   "cell_type": "markdown",
   "metadata": {},
   "source": [
    "# Exercise 2 - Gradient with one layer using autograd\n",
    "\n",
    "For the first few exercises, we will not use batched inputs. Only a single input vector is passed through the layer at a time.\n",
    "\n",
    "In this exercise you will compute the gradient of a single layer. You only need to change the code in the cells right below an exercise, the rest works out of the box. Feel free to make changes and see how stuff works though!\n"
   ]
  },
  {
   "cell_type": "markdown",
   "metadata": {},
   "source": [
    "**a)** If the weights and bias of a layer has shapes (10, 4) and (10), what will the shapes of the gradients of the cost function wrt. these weights and this bias be?\n",
    "\n",
    "The shape of the gradients of the cost function wrt. weights and bias is the same as the original weights and bias, so (10,4) and (10,)\n"
   ]
  },
  {
   "cell_type": "markdown",
   "metadata": {},
   "source": [
    "**b)** Complete the feed_forward_one_layer function. It should use the sigmoid activation function. Also define the weigth and bias with the correct shapes.\n"
   ]
  },
  {
   "cell_type": "code",
   "execution_count": 2,
   "metadata": {},
   "outputs": [],
   "source": [
    "def feed_forward_one_layer(W, b, x):\n",
    "    z = W @ x + b\n",
    "    a = sigmoid(z)\n",
    "    return a\n",
    "\n",
    "\n",
    "def cost_one_layer(W, b, x, target):\n",
    "    predict = feed_forward_one_layer(W, b, x)\n",
    "    return mse(predict, target)\n",
    "\n",
    "\n",
    "x = np.random.rand(2)\n",
    "target = np.random.rand(3)\n",
    "\n",
    "W = np.random.randn(3,2)\n",
    "b = np.random.randn(3)"
   ]
  },
  {
   "cell_type": "markdown",
   "metadata": {},
   "source": [
    "**c)** Compute the gradient of the cost function wrt. the weigth and bias by running the cell below. You will not need to change anything, just make sure it runs by defining things correctly in the cell above. This code uses the autograd package which uses backprogagation to compute the gradient!\n"
   ]
  },
  {
   "cell_type": "code",
   "execution_count": 3,
   "metadata": {},
   "outputs": [
    {
     "name": "stdout",
     "output_type": "stream",
     "text": [
      "[[-0.03970906 -0.01412732]\n",
      " [-0.03954203 -0.0140679 ]\n",
      " [ 0.01948671  0.0069328 ]] [-0.07494318 -0.07462795  0.03677741]\n"
     ]
    }
   ],
   "source": [
    "autograd_one_layer = grad(cost_one_layer, [0, 1])\n",
    "W_g, b_g = autograd_one_layer(W, b, x, target)\n",
    "print(W_g, b_g)"
   ]
  },
  {
   "cell_type": "markdown",
   "metadata": {},
   "source": [
    "# Exercise 3 - Gradient with one layer writing backpropagation by hand\n",
    "\n",
    "Before you use the gradient you found using autograd, you will have to find the gradient \"manually\", to better understand how the backpropagation computation works. To do backpropagation \"manually\", you will need to write out expressions for many derivatives along the computation.\n"
   ]
  },
  {
   "cell_type": "markdown",
   "metadata": {},
   "source": [
    "We want to find the gradient of the cost function wrt. the weight and bias. This is quite hard to do directly, so we instead use the chain rule to combine multiple derivatives which are easier to compute.\n",
    "\n",
    "$$\n",
    "\\frac{dC}{dW} = \\frac{dC}{da}\\frac{da}{dz}\\frac{dz}{dW}\n",
    "$$\n",
    "\n",
    "$$\n",
    "\\frac{dC}{db} = \\frac{dC}{da}\\frac{da}{dz}\\frac{dz}{db}\n",
    "$$\n"
   ]
  },
  {
   "cell_type": "markdown",
   "metadata": {},
   "source": [
    "**a)** Which intermediary results can be reused between the two expressions?\n",
    "\n",
    "The results for $\\frac{dC}{da}\\frac{da}{dz}$ can be reused for both expressions, since they are independent of W and b."
   ]
  },
  {
   "cell_type": "markdown",
   "metadata": {},
   "source": [
    "**b)** What is the derivative of the cost wrt. the final activation? You can use the autograd calculation to make sure you get the correct result. Remember that we compute the mean in mse.\n"
   ]
  },
  {
   "cell_type": "code",
   "execution_count": 4,
   "metadata": {},
   "outputs": [
    {
     "name": "stdout",
     "output_type": "stream",
     "text": [
      "[-0.30077475 -0.30041427  0.27117754]\n",
      "[-0.30077475 -0.30041427  0.27117754]\n"
     ]
    }
   ],
   "source": [
    "z = W @ x + b\n",
    "a = sigmoid(z)\n",
    "\n",
    "predict = a\n",
    "\n",
    "\n",
    "def mse_der(predict, target):\n",
    "    return (2/3)*(predict - target)\n",
    "\n",
    "\n",
    "print(mse_der(predict, target))\n",
    "\n",
    "cost_autograd = grad(mse, 0)\n",
    "print(cost_autograd(predict, target))"
   ]
  },
  {
   "cell_type": "markdown",
   "metadata": {},
   "source": [
    "**c)** What is the expression for the derivative of the sigmoid activation function? You can use the autograd calculation to make sure you get the correct result.\n"
   ]
  },
  {
   "cell_type": "code",
   "execution_count": 5,
   "metadata": {},
   "outputs": [
    {
     "name": "stdout",
     "output_type": "stream",
     "text": [
      "[0.24916713 0.24841679 0.13562113]\n",
      "[0.24916713 0.24841679 0.13562113]\n"
     ]
    }
   ],
   "source": [
    "def sigmoid_der(z):\n",
    "    return np.exp(-z)/(1+np.exp(-z))**2\n",
    "\n",
    "\n",
    "print(sigmoid_der(z))\n",
    "\n",
    "sigmoid_autograd = elementwise_grad(sigmoid, 0)\n",
    "print(sigmoid_autograd(z))"
   ]
  },
  {
   "cell_type": "markdown",
   "metadata": {},
   "source": [
    "**d)** Using the two derivatives you just computed, compute this intermetidary gradient you will use later:\n",
    "\n",
    "$$\n",
    "\\frac{dC}{dz} = \\frac{dC}{da}\\frac{da}{dz}\n",
    "$$\n"
   ]
  },
  {
   "cell_type": "code",
   "execution_count": 6,
   "metadata": {},
   "outputs": [],
   "source": [
    "dC_da = mse_der(predict,target)\n",
    "dC_dz = dC_da*sigmoid_der(z)\n",
    "dC_dz = dC_dz.reshape(-1,1)"
   ]
  },
  {
   "cell_type": "markdown",
   "metadata": {},
   "source": [
    "**e)** What is the derivative of the intermediary z wrt. the weight and bias? What should the shapes be? The one for the weights is a little tricky, it can be easier to play around in the next exercise first. You can also try computing it with autograd to get a hint.\n",
    "\n",
    "$$\n",
    "\\frac{dz}{dW} = \\frac{\\partial}{\\partial W} \\left(W x + b\\right) = x^{T} \\quad \\quad \\text{and} \\quad \\quad \\frac{dz}{db} = 1\n",
    "$$\n",
    "\n",
    "The shape of $\\frac{dz}{dW}$ should be the trasposed of x, so (1,2). While $\\frac{dz}{db} = 1$ is just a scalar. "
   ]
  },
  {
   "cell_type": "markdown",
   "metadata": {},
   "source": [
    "**f)** Now combine the expressions you have worked with so far to compute the gradients! Note that you always need to do a feed forward pass while saving the zs and as before you do backpropagation, as they are used in the derivative expressions\n"
   ]
  },
  {
   "cell_type": "code",
   "execution_count": 7,
   "metadata": {},
   "outputs": [
    {
     "name": "stdout",
     "output_type": "stream",
     "text": [
      "[[-0.03970906 -0.01412732]\n",
      " [-0.03954203 -0.0140679 ]\n",
      " [ 0.01948671  0.0069328 ]] [[-0.07494318 -0.07462795  0.03677741]]\n"
     ]
    }
   ],
   "source": [
    "x_reshape = x.copy().reshape(-1,1)\n",
    "\n",
    "dz_dw = x_reshape.T\n",
    "dz_db = 1\n",
    "\n",
    "dC_dW = dC_dz @ dz_dw\n",
    "dC_db = dC_dz*dz_db\n",
    "\n",
    "dC_db = dC_db.reshape(1,-1)\n",
    "\n",
    "print(dC_dW, dC_db)"
   ]
  },
  {
   "cell_type": "markdown",
   "metadata": {},
   "source": [
    "It appears that we get the same result, as for the autograd solution below."
   ]
  },
  {
   "cell_type": "markdown",
   "metadata": {},
   "source": [
    "You should get the same results as with autograd.\n"
   ]
  },
  {
   "cell_type": "code",
   "execution_count": 8,
   "metadata": {},
   "outputs": [
    {
     "name": "stdout",
     "output_type": "stream",
     "text": [
      "[[-0.03970906 -0.01412732]\n",
      " [-0.03954203 -0.0140679 ]\n",
      " [ 0.01948671  0.0069328 ]] [-0.07494318 -0.07462795  0.03677741]\n"
     ]
    }
   ],
   "source": [
    "W_g, b_g = autograd_one_layer(W, b, x, target)\n",
    "print(W_g, b_g)"
   ]
  },
  {
   "cell_type": "markdown",
   "metadata": {},
   "source": [
    "# Exercise 4 - Gradient with two layers writing backpropagation by hand\n"
   ]
  },
  {
   "cell_type": "markdown",
   "metadata": {},
   "source": [
    "Now that you have implemented backpropagation for one layer, you have found most of the expressions you will need for more layers. Let's move up to two layers.\n"
   ]
  },
  {
   "cell_type": "code",
   "execution_count": 9,
   "metadata": {},
   "outputs": [],
   "source": [
    "x = np.random.rand(2).reshape(-1,1)\n",
    "target = np.random.rand(4).reshape(-1,1)\n",
    "\n",
    "\n",
    "W1 = np.random.rand(3, 2)\n",
    "b1 = np.random.rand(3).reshape(-1,1)\n",
    "\n",
    "W2 = np.random.rand(4, 3)\n",
    "b2 = np.random.rand(4).reshape(-1,1)\n",
    "\n",
    "layers = [(W1, b1), (W2, b2)]"
   ]
  },
  {
   "cell_type": "code",
   "execution_count": 10,
   "metadata": {},
   "outputs": [
    {
     "name": "stdout",
     "output_type": "stream",
     "text": [
      "(3, 1)\n"
     ]
    }
   ],
   "source": [
    "z1 = W1 @ x + b1\n",
    "a1 = sigmoid(z1)\n",
    "z2 = W2 @ a1 + b2\n",
    "a2 = sigmoid(z2)\n",
    "print(a1.shape)"
   ]
  },
  {
   "cell_type": "markdown",
   "metadata": {},
   "source": [
    "We begin by computing the gradients of the last layer, as the gradients must be propagated backwards from the end.\n",
    "\n",
    "**a)** Compute the gradients of the last layer, just like you did the single layer in the previous exercise.\n"
   ]
  },
  {
   "cell_type": "code",
   "execution_count": 11,
   "metadata": {},
   "outputs": [],
   "source": [
    "\n",
    "dC_da2 = mse_der(a2,target)\n",
    "dC_dz2 = dC_da2*sigmoid_der(z2)\n",
    "\n",
    "dC_dW2 = dC_dz2 @ a1.T\n",
    "dC_db2 = dC_dz2\n",
    "\n"
   ]
  },
  {
   "cell_type": "markdown",
   "metadata": {},
   "source": [
    "To find the derivative of the cost wrt. the activation of the first layer, we need a new expression, the one furthest to the right in the following.\n",
    "\n",
    "$$\n",
    "\\frac{dC}{da_1} = \\frac{dC}{dz_2}\\frac{dz_2}{da_1}\n",
    "$$\n",
    "\n",
    "**b)** What is the derivative of the second layer intermetiate wrt. the first layer activation? (First recall how you compute $z_2$)\n",
    "\n",
    "$$\n",
    "\\frac{dz_2}{da_1} = \\frac{\\partial }{\\partial a_1} \\left(W_{2}a_1 + b_2\\right) = W_{2}^{T}\n",
    "$$\n"
   ]
  },
  {
   "cell_type": "markdown",
   "metadata": {},
   "source": [
    "**c)** Use this expression, together with expressions which are equivelent to ones for the last layer to compute all the derivatives of the first layer.\n",
    "\n",
    "$$\n",
    "\\frac{dC}{dW_1} = \\frac{dC}{da_1}\\frac{da_1}{dz_1}\\frac{dz_1}{dW_1}\n",
    "$$\n",
    "\n",
    "$$\n",
    "\\frac{dC}{db_1} = \\frac{dC}{da_1}\\frac{da_1}{dz_1}\\frac{dz_1}{db_1}\n",
    "$$\n"
   ]
  },
  {
   "cell_type": "code",
   "execution_count": 12,
   "metadata": {},
   "outputs": [
    {
     "name": "stdout",
     "output_type": "stream",
     "text": [
      "(4, 1)\n",
      "(3, 1)\n"
     ]
    }
   ],
   "source": [
    "print(dC_dz2.shape)\n",
    "dC_da1 = W2.T @ dC_dz2 \n",
    "print(dC_da1.shape)\n",
    "dC_dz1 = dC_da1*sigmoid_der(z1)\n",
    "dC_dW1 = dC_dz1 * x.T\n",
    "dC_db1 = dC_dz1\n",
    "\n",
    "#print(dC_dW1)"
   ]
  },
  {
   "cell_type": "code",
   "execution_count": 13,
   "metadata": {},
   "outputs": [
    {
     "name": "stdout",
     "output_type": "stream",
     "text": [
      "[[0.00330186 0.00438931]\n",
      " [0.00336029 0.00446698]\n",
      " [0.0049644  0.0065994 ]] [[0.00529925]\n",
      " [0.00539303]\n",
      " [0.00796751]]\n",
      "[[ 0.00564955  0.00440203  0.00488286]\n",
      " [-0.00457097 -0.00356162 -0.00395066]\n",
      " [ 0.0489398   0.03813301  0.0422983 ]\n",
      " [ 0.02176609  0.01695975  0.01881227]] [[ 0.00634069]\n",
      " [-0.00513017]\n",
      " [ 0.05492692]\n",
      " [ 0.02442888]]\n"
     ]
    }
   ],
   "source": [
    "print(dC_dW1, dC_db1)\n",
    "print(dC_dW2, dC_db2)"
   ]
  },
  {
   "cell_type": "markdown",
   "metadata": {},
   "source": [
    "**d)** Make sure you got the same gradient as the following code which uses autograd to do backpropagation.\n"
   ]
  },
  {
   "cell_type": "code",
   "execution_count": 14,
   "metadata": {},
   "outputs": [],
   "source": [
    "def feed_forward_two_layers(layers, x):\n",
    "    W1, b1 = layers[0]\n",
    "    z1 = W1 @ x + b1\n",
    "    a1 = sigmoid(z1)\n",
    "\n",
    "    W2, b2 = layers[1]\n",
    "    z2 = W2 @ a1 + b2\n",
    "    a2 = sigmoid(z2)\n",
    "\n",
    "    return a2"
   ]
  },
  {
   "cell_type": "code",
   "execution_count": 15,
   "metadata": {},
   "outputs": [
    {
     "data": {
      "text/plain": [
       "[(array([[0.00247639, 0.00329198],\n",
       "         [0.00252022, 0.00335024],\n",
       "         [0.0037233 , 0.00494955]]),\n",
       "  array([[0.00397444],\n",
       "         [0.00404477],\n",
       "         [0.00597563]])),\n",
       " (array([[ 0.00423716,  0.00330152,  0.00366215],\n",
       "         [-0.00342823, -0.00267121, -0.00296299],\n",
       "         [ 0.03670485,  0.02859975,  0.03172372],\n",
       "         [ 0.01632457,  0.01271981,  0.0141092 ]]),\n",
       "  array([[ 0.00475552],\n",
       "         [-0.00384763],\n",
       "         [ 0.04119519],\n",
       "         [ 0.01832166]]))]"
      ]
     },
     "execution_count": 15,
     "metadata": {},
     "output_type": "execute_result"
    }
   ],
   "source": [
    "def cost_two_layers(layers, x, target):\n",
    "    predict = feed_forward_two_layers(layers, x)\n",
    "    return mse(predict, target)\n",
    "\n",
    "\n",
    "grad_two_layers = grad(cost_two_layers, 0)\n",
    "grad_two_layers(layers, x, target)"
   ]
  },
  {
   "cell_type": "markdown",
   "metadata": {},
   "source": [
    "**e)** How would you use the gradient from this layer to compute the gradient of an even earlier layer? Would the expressions be any different?\n",
    "\n",
    "I would use the gradient\n",
    "$$\n",
    "\\frac{dC}{dz_{l+1}}\n",
    "$$\n",
    "and weight $W_{l+1}$ from the earlier layer $l+1$ to compute the gradient for layer $l$.\n"
   ]
  },
  {
   "cell_type": "markdown",
   "metadata": {},
   "source": [
    "# Exercise 5 - Gradient with any number of layers writing backpropagation by hand\n"
   ]
  },
  {
   "cell_type": "markdown",
   "metadata": {},
   "source": [
    "Well done on getting this far! Now it's time to compute the gradient with any number of layers.\n",
    "\n",
    "First, some code from the general neural network code from last week. Note that we are still sending in one input vector at a time. We will change it to use batched inputs later.\n"
   ]
  },
  {
   "cell_type": "code",
   "execution_count": 16,
   "metadata": {},
   "outputs": [],
   "source": [
    "def create_layers(network_input_size, layer_output_sizes):\n",
    "    layers = []\n",
    "\n",
    "    i_size = network_input_size\n",
    "    for layer_output_size in layer_output_sizes:\n",
    "        W = np.random.randn(layer_output_size, i_size)\n",
    "        b = np.random.randn(layer_output_size).reshape(-1,1)\n",
    "        layers.append((W, b))\n",
    "\n",
    "        i_size = layer_output_size\n",
    "    return layers\n",
    "\n",
    "\n",
    "def feed_forward(input, layers, activation_funcs):\n",
    "    a = input\n",
    "    for (W, b), activation_func in zip(layers, activation_funcs):\n",
    "        z = W @ a + b\n",
    "        a = activation_func(z)\n",
    "    return a\n",
    "\n",
    "\n",
    "def cost(layers, input, activation_funcs, target):\n",
    "    predict = feed_forward(input, layers, activation_funcs)\n",
    "    return mse(predict, target)"
   ]
  },
  {
   "cell_type": "markdown",
   "metadata": {},
   "source": [
    "You might have already have noticed a very important detail in backpropagation: You need the values from the forward pass to compute all the gradients! The feed forward method above is great for efficiency and for using autograd, as it only cares about computing the final output, but now we need to also save the results along the way.\n",
    "\n",
    "Here is a function which does that for you.\n"
   ]
  },
  {
   "cell_type": "code",
   "execution_count": 17,
   "metadata": {},
   "outputs": [],
   "source": [
    "def feed_forward_saver(input, layers, activation_funcs):\n",
    "    layer_inputs = []\n",
    "    zs = []\n",
    "    a = input\n",
    "    for (W, b), activation_func in zip(layers, activation_funcs):\n",
    "        layer_inputs.append(a)\n",
    "        z = W @ a + b\n",
    "        a = activation_func(z)\n",
    "\n",
    "        zs.append(z)\n",
    "\n",
    "    return layer_inputs, zs, a"
   ]
  },
  {
   "cell_type": "markdown",
   "metadata": {},
   "source": [
    "**a)** Now, complete the backpropagation function so that it returns the gradient of the cost function wrt. all the weigths and biases. Use the autograd calculation below to make sure you get the correct answer.\n"
   ]
  },
  {
   "cell_type": "code",
   "execution_count": 18,
   "metadata": {},
   "outputs": [],
   "source": [
    "def backpropagation(\n",
    "    input, layers, activation_funcs, target, activation_ders, cost_der=mse_der\n",
    "):\n",
    "    layer_inputs, zs, predict = feed_forward_saver(input, layers, activation_funcs)\n",
    "\n",
    "    layer_grads = [() for layer in layers]\n",
    "\n",
    "    # We loop over the layers, from the last to the first\n",
    "    for i in reversed(range(len(layers))):\n",
    "        layer_input, z, activation_der = layer_inputs[i], zs[i], activation_ders[i]\n",
    "\n",
    "        if i == len(layers) - 1:\n",
    "            # For last layer we use cost derivative as dC_da(L) can be computed directly\n",
    "            dC_da = cost_der(predict,target)\n",
    "        else:\n",
    "            # For other layers we build on previous z derivative, as dC_da(i) = dC_dz(i+1) * dz(i+1)_da(i)\n",
    "            (W, b) = layers[i + 1]\n",
    "            dC_da = W.T @ dC_dz\n",
    "\n",
    "        dC_dz = dC_da * activation_der(z)\n",
    "        dC_dW = dC_dz @ layer_input.T\n",
    "        dC_db = dC_dz\n",
    "\n",
    "        layer_grads[i] = (dC_dW, dC_db)\n",
    "\n",
    "    return layer_grads"
   ]
  },
  {
   "cell_type": "code",
   "execution_count": 19,
   "metadata": {},
   "outputs": [],
   "source": [
    "network_input_size = 2\n",
    "layer_output_sizes = [3, 4]\n",
    "activation_funcs = [sigmoid, ReLU]\n",
    "activation_ders = [sigmoid_der, ReLU_der]\n",
    "\n",
    "layers = create_layers(network_input_size, layer_output_sizes)\n",
    "\n",
    "x = np.random.rand(network_input_size).reshape(-1,1)    # creating colloumn vectors\n",
    "target = np.random.rand(4).reshape(-1,1)                # creating colloumn vectors"
   ]
  },
  {
   "cell_type": "code",
   "execution_count": 20,
   "metadata": {},
   "outputs": [
    {
     "name": "stdout",
     "output_type": "stream",
     "text": [
      "[(array([[-0.0087209 , -0.0099403 ],\n",
      "       [ 0.04099411,  0.04672612],\n",
      "       [-0.00688114, -0.00784329]]), array([[-0.05036609],\n",
      "       [ 0.23675462],\n",
      "       [-0.03974085]])), (array([[0.        , 0.        , 0.        ],\n",
      "       [0.29415965, 0.21067815, 0.05277896],\n",
      "       [0.        , 0.        , 0.        ],\n",
      "       [0.        , 0.        , 0.        ]]), array([[-0.        ],\n",
      "       [ 0.49604922],\n",
      "       [-0.        ],\n",
      "       [-0.        ]]))]\n"
     ]
    }
   ],
   "source": [
    "layer_grads = backpropagation(x, layers, activation_funcs, target, activation_ders)\n",
    "print(layer_grads)"
   ]
  },
  {
   "cell_type": "code",
   "execution_count": 21,
   "metadata": {},
   "outputs": [
    {
     "data": {
      "text/plain": [
       "[(array([[-0.00654067, -0.00745522],\n",
       "         [ 0.03074559,  0.03504459],\n",
       "         [-0.00516085, -0.00588247]]),\n",
       "  array([[-0.03777457],\n",
       "         [ 0.17756596],\n",
       "         [-0.02980563]])),\n",
       " (array([[0.        , 0.        , 0.        ],\n",
       "         [0.22061974, 0.15800861, 0.03958422],\n",
       "         [0.        , 0.        , 0.        ],\n",
       "         [0.        , 0.        , 0.        ]]),\n",
       "  array([[0.        ],\n",
       "         [0.37203691],\n",
       "         [0.        ],\n",
       "         [0.        ]]))]"
      ]
     },
     "execution_count": 21,
     "metadata": {},
     "output_type": "execute_result"
    }
   ],
   "source": [
    "cost_grad = grad(cost, 0)\n",
    "cost_grad(layers, x, [sigmoid, ReLU], target)"
   ]
  },
  {
   "cell_type": "markdown",
   "metadata": {},
   "source": [
    "# Exercise 6 - Batched inputs\n",
    "\n",
    "Make new versions of all the functions in exercise 5 which now take batched inputs instead. See last weeks exercise 5 for details on how to batch inputs to neural networks. You will also need to update the backpropogation function.\n"
   ]
  },
  {
   "cell_type": "code",
   "execution_count": 22,
   "metadata": {},
   "outputs": [],
   "source": [
    "def create_layers_batch(network_input_size, layer_output_sizes):\n",
    "    layers = []\n",
    "\n",
    "    i_size = network_input_size\n",
    "    for layer_output_size in layer_output_sizes:\n",
    "        W = np.transpose(np.random.randn(layer_output_size,i_size))\n",
    "        b = np.random.randn(layer_output_size)\n",
    "        layers.append((W, b))\n",
    "\n",
    "        i_size = layer_output_size\n",
    "    return layers\n",
    "\n",
    "\n",
    "def feed_forward_batch(inputs, layers, activation_funcs):\n",
    "    a = inputs\n",
    "    for (W, b), activation_func in zip(layers, activation_funcs):\n",
    "        z = a @ W + b\n",
    "        a = activation_func(z)\n",
    "    return a\n",
    "\n",
    "\n",
    "def cost(layers, input, activation_funcs, target):\n",
    "    predict = feed_forward(input, layers, activation_funcs)\n",
    "    return mse(predict, target)"
   ]
  },
  {
   "cell_type": "code",
   "execution_count": 23,
   "metadata": {},
   "outputs": [],
   "source": [
    "def feed_forward_saver_batch(input, layers, activation_funcs):\n",
    "    layer_inputs = []\n",
    "    zs = []\n",
    "    a = input\n",
    "    for (W, b), activation_func in zip(layers, activation_funcs):\n",
    "        layer_inputs.append(a)\n",
    "        z = a @ W + b\n",
    "        a = activation_func(z)\n",
    "\n",
    "        zs.append(z)\n",
    "\n",
    "    return layer_inputs, zs, a"
   ]
  },
  {
   "cell_type": "code",
   "execution_count": 24,
   "metadata": {},
   "outputs": [],
   "source": [
    "def backpropagation_batch(\n",
    "    input, layers, activation_funcs, target, activation_ders, cost_der=mse_der\n",
    "):\n",
    "    layer_inputs, zs, predict = feed_forward_saver_batch(input, layers, activation_funcs)\n",
    "\n",
    "    layer_grads = [() for layer in layers]\n",
    "\n",
    "    # We loop over the layers, from the last to the first\n",
    "    for i in reversed(range(len(layers))):\n",
    "        layer_input, z, activation_der = layer_inputs[i], zs[i], activation_ders[i]\n",
    "\n",
    "        if i == len(layers) - 1:\n",
    "            # For last layer we use cost derivative as dC_da(L) can be computed directly\n",
    "            dC_da = cost_der(predict,target)\n",
    "        else:\n",
    "            # For other layers we build on previous z derivative, as dC_da(i) = dC_dz(i+1) * dz(i+1)_da(i)\n",
    "            (W, b) = layers[i + 1]\n",
    "            dC_da = W.T @ dC_dz\n",
    "\n",
    "        dC_dz = dC_da * activation_der(z)\n",
    "        print(dC_dz.shape, (layer_input.T).shape)\n",
    "        dC_dW = layer_input.T @ dC_dz \n",
    "        dC_db = dC_dz\n",
    "\n",
    "        layer_grads[i] = (dC_dW, dC_db)\n",
    "\n",
    "    return layer_grads"
   ]
  },
  {
   "cell_type": "code",
   "execution_count": 25,
   "metadata": {},
   "outputs": [
    {
     "data": {
      "text/plain": [
       "array([[0.        , 0.        , 0.        , 1.06123523],\n",
       "       [0.        , 0.        , 0.        , 1.18584562],\n",
       "       [0.        , 0.        , 0.        , 1.14174587],\n",
       "       [0.        , 0.        , 0.        , 1.15033672],\n",
       "       [0.        , 0.        , 0.        , 1.09450112],\n",
       "       [0.        , 0.        , 0.        , 1.06499502],\n",
       "       [0.        , 0.        , 0.        , 1.10370975],\n",
       "       [0.        , 0.        , 0.        , 1.06268521],\n",
       "       [0.        , 0.        , 0.        , 1.0701281 ],\n",
       "       [0.        , 0.        , 0.        , 1.08133273]])"
      ]
     },
     "execution_count": 25,
     "metadata": {},
     "output_type": "execute_result"
    }
   ],
   "source": [
    "network_input_size = 2\n",
    "data_points = 10\n",
    "layer_output_sizes = [3, 4]\n",
    "activation_funcs = [sigmoid, ReLU]\n",
    "activation_ders = [sigmoid_der, ReLU_der]\n",
    "\n",
    "layers = create_layers_batch(network_input_size, layer_output_sizes)\n",
    "\n",
    "x = np.random.rand(data_points,network_input_size)    # creating colloumn vectors\n",
    "target = np.random.rand(data_points,4)               # creating colloumn vectors\n",
    "\n",
    "feed_forward_batch(x, layers, activation_funcs)\n",
    "\n",
    "#layer_grads = backpropagation_batch(x, layers, activation_funcs, target, activation_ders)\n",
    "#print(layer_grads)"
   ]
  },
  {
   "cell_type": "markdown",
   "metadata": {},
   "source": [
    "I didn´t fully manage to create adjust backpropagation for batches, simply because I didnt hav more time.\n",
    "\n",
    "Therefore I was not able to do exercise 7 unfortunately."
   ]
  },
  {
   "cell_type": "markdown",
   "metadata": {},
   "source": [
    "# Exercise 7 - Training\n"
   ]
  },
  {
   "cell_type": "markdown",
   "metadata": {},
   "source": [
    "**a)** Complete exercise 6 and 7 from last week, but use your own backpropogation implementation to compute the gradient.\n",
    "\n",
    "**b)** Use stochastic gradient descent with momentum when you train your network.\n"
   ]
  },
  {
   "cell_type": "markdown",
   "metadata": {},
   "source": [
    "# Exercise 8 (Optional) - Object orientation\n",
    "\n",
    "Passing in the layers, activations functions, activation derivatives and cost derivatives into the functions each time leads to code which is easy to understand in isoloation, but messier when used in a larger context with data splitting, data scaling, gradient methods and so forth. Creating an object which stores these values can lead to code which is much easier to use.\n",
    "\n",
    "**a)** Write a neural network class. You are free to implement it how you see fit, though we strongly recommend to not save any input or output values as class attributes, nor let the neural network class handle gradient methods internally. Gradient methods should be handled outside, by performing general operations on the layer_grads list using functions or classes separate to the neural network.\n",
    "\n",
    "We provide here a skeleton structure which should get you started.\n"
   ]
  },
  {
   "cell_type": "code",
   "execution_count": 26,
   "metadata": {},
   "outputs": [],
   "source": [
    "class NeuralNetwork:\n",
    "    def __init__(\n",
    "        self,\n",
    "        network_input_size,\n",
    "        layer_output_sizes,\n",
    "        activation_funcs,\n",
    "        activation_ders,\n",
    "        cost_fun,\n",
    "        cost_der,\n",
    "    ):\n",
    "        pass\n",
    "\n",
    "    def predict(self, inputs):\n",
    "        # Simple feed forward pass\n",
    "        pass\n",
    "\n",
    "    def cost(self, inputs, targets):\n",
    "        pass\n",
    "\n",
    "    def _feed_forward_saver(self, inputs):\n",
    "        pass\n",
    "\n",
    "    def compute_gradient(self, inputs, targets):\n",
    "        pass\n",
    "\n",
    "    def update_weights(self, layer_grads):\n",
    "        pass\n",
    "\n",
    "    # These last two methods are not needed in the project, but they can be nice to have! The first one has a layers parameter so that you can use autograd on it\n",
    "    def autograd_compliant_predict(self, layers, inputs):\n",
    "        pass\n",
    "\n",
    "    def autograd_gradient(self, inputs, targets):\n",
    "        pass"
   ]
  },
  {
   "cell_type": "code",
   "execution_count": null,
   "metadata": {},
   "outputs": [],
   "source": []
  }
 ],
 "metadata": {
  "kernelspec": {
   "display_name": "Python 3 (ipykernel)",
   "language": "python",
   "name": "python3"
  },
  "language_info": {
   "codemirror_mode": {
    "name": "ipython",
    "version": 3
   },
   "file_extension": ".py",
   "mimetype": "text/x-python",
   "name": "python",
   "nbconvert_exporter": "python",
   "pygments_lexer": "ipython3",
   "version": "3.9.15"
  }
 },
 "nbformat": 4,
 "nbformat_minor": 2
}
